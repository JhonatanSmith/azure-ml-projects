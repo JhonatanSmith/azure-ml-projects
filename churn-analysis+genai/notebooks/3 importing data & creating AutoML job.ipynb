{
 "cells": [
  {
   "cell_type": "code",
   "execution_count": 7,
   "id": "2551a03a",
   "metadata": {},
   "outputs": [],
   "source": [
    "from azure.ai.ml import MLClient\n",
    "from azure.identity import DefaultAzureCredential\n",
    "from azure.ai.ml import dsl\n",
    "from azure.ai.ml.constants import AssetTypes\n",
    "import json\n",
    "\n",
    "with open(\"../config.json\") as f:\n",
    "    config = json.load(f)\n",
    "    \n",
    "cred = DefaultAzureCredential()\n",
    "ml_client = MLClient(\n",
    "    credential=cred,\n",
    "    subscription_id=config[\"subscription_id\"],\n",
    "    resource_group_name=config[\"resource_group\"],\n",
    "    workspace_name= config[\"workspace_name\"]\n",
    ")"
   ]
  },
  {
   "cell_type": "markdown",
   "id": "74c49a52",
   "metadata": {},
   "source": [
    "# Loading data inot a notebook from Azure ML Studio"
   ]
  },
  {
   "cell_type": "code",
   "execution_count": 8,
   "id": "752148c5",
   "metadata": {},
   "outputs": [],
   "source": [
    "dataset = ml_client.data.get(name= \"churn-dataset\",\n",
    "                             version = \"2\")"
   ]
  },
  {
   "cell_type": "code",
   "execution_count": null,
   "id": "533143e9",
   "metadata": {},
   "outputs": [],
   "source": []
  },
  {
   "cell_type": "code",
   "execution_count": null,
   "id": "c2f144b3",
   "metadata": {},
   "outputs": [
    {
     "data": {
      "text/plain": [
       "Data({'path': 'azureml://subscriptions/c80bdc1b-4a4b-4431-9d26-358f0b3ade9f/resourcegroups/smith-azure-ml-projects/workspaces/ml-churn-genai/datastores/workspaceblobstore/paths/LocalUpload/0253b9c5851d9b3b52f1b52d98692dd9/churn/', 'skip_validation': False, 'mltable_schema_url': None, 'referenced_uris': ['churn.csv'], 'type': 'mltable', 'is_anonymous': False, 'auto_increment_version': False, 'auto_delete_setting': None, 'name': 'churn-dataset', 'description': 'Telco Churn dataset to be used in the project', 'tags': {}, 'properties': {}, 'print_as_yaml': False, 'id': '/subscriptions/c80bdc1b-4a4b-4431-9d26-358f0b3ade9f/resourceGroups/smith-azure-ml-projects/providers/Microsoft.MachineLearningServices/workspaces/ml-churn-genai/data/churn-dataset/versions/2', 'Resource__source_path': '', 'base_path': 'c:\\\\Users\\\\JhonatanSmithGarcía\\\\OneDrive - Celerik\\\\Desktop\\\\Repositorios\\\\Celerik\\\\2025\\\\Work\\\\Abril\\\\Proyectos Azure\\\\churn-analysis+genai\\\\notebooks', 'creation_context': <azure.ai.ml.entities._system_data.SystemData object at 0x0000023EBB257770>, 'serialize': <msrest.serialization.Serializer object at 0x0000023EBB314210>, 'version': '2', 'latest_version': None, 'datastore': None})"
      ]
     },
     "execution_count": 9,
     "metadata": {},
     "output_type": "execute_result"
    },
    {
     "ename": "",
     "evalue": "",
     "output_type": "error",
     "traceback": [
      "\u001b[1;31mThe Kernel crashed while executing code in the current cell or a previous cell. \n",
      "\u001b[1;31mPlease review the code in the cell(s) to identify a possible cause of the failure. \n",
      "\u001b[1;31mClick <a href='https://aka.ms/vscodeJupyterKernelCrash'>here</a> for more info. \n",
      "\u001b[1;31mView Jupyter <a href='command:jupyter.viewOutput'>log</a> for further details."
     ]
    }
   ],
   "source": [
    "dataset"
   ]
  }
 ],
 "metadata": {
  "kernelspec": {
   "display_name": ".venv",
   "language": "python",
   "name": "python3"
  },
  "language_info": {
   "codemirror_mode": {
    "name": "ipython",
    "version": 3
   },
   "file_extension": ".py",
   "mimetype": "text/x-python",
   "name": "python",
   "nbconvert_exporter": "python",
   "pygments_lexer": "ipython3",
   "version": "3.13.2"
  }
 },
 "nbformat": 4,
 "nbformat_minor": 5
}
