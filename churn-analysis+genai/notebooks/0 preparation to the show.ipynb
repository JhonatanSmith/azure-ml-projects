{
 "cells": [
  {
   "cell_type": "code",
   "execution_count": 5,
   "id": "9a5a3282",
   "metadata": {},
   "outputs": [
    {
     "name": "stderr",
     "output_type": "stream",
     "text": [
      "Overriding of current TracerProvider is not allowed\n",
      "Overriding of current LoggerProvider is not allowed\n",
      "Overriding of current MeterProvider is not allowed\n",
      "Attempting to instrument while already instrumented\n",
      "Attempting to instrument while already instrumented\n",
      "Attempting to instrument while already instrumented\n",
      "The deployment request ml-churn-genai-6798541 was accepted. ARM deployment URI for reference: \n",
      "https://portal.azure.com//#blade/HubsExtension/DeploymentDetailsBlade/overview/id/%2Fsubscriptions%2Fc80bdc1b-4a4b-4431-9d26-358f0b3ade9f%2FresourceGroups%2Fsmith-azure-ml-projects%2Fproviders%2FMicrosoft.Resources%2Fdeployments%2Fml-churn-genai-6798541\n",
      "Creating Storage Account: (mlchurngstorage70d251731  ) ..  Done (22s)\n",
      "Creating Key Vault: (mlchurngkeyvault421cb39e  )  Done (17s)\n",
      "Creating Log Analytics Workspace: (mlchurnglogalyticf4c0e13  )  Done (17s)\n",
      "Creating AzureML Workspace: (ml-churn-genai  ) ..  Done (20s)\n",
      "Creating Application Insights: (mlchurnginsightscac05227  )  Done (19s)\n",
      "Exception occurred while logging total duration: 'NoneType' object has no attribute 'split'\n"
     ]
    },
    {
     "name": "stdout",
     "output_type": "stream",
     "text": [
      "✅ Workspace 'ml-churn-genai' creado correctamente.\n"
     ]
    }
   ],
   "source": [
    "from azure.identity import DefaultAzureCredential\n",
    "from azure.ai.ml import MLClient\n",
    "from azure.ai.ml.entities import Workspace\n",
    "import json\n",
    "\n",
    "# Reading the config file\n",
    "with open(\"../config.json\") as f:\n",
    "    config = json.load(f)\n",
    "    \n",
    "# Local authentication\n",
    "cred = DefaultAzureCredential()\n",
    "\n",
    "# ML Client\n",
    "ml_client = MLClient(\n",
    "    credential=cred,\n",
    "    subscription_id= config[\"subscription_id\"],\n",
    "    resource_group_name= config[\"resource_group\"],\n",
    ")\n",
    "\n",
    "# Creating a workspace\n",
    "\n",
    "ws = Workspace(\n",
    "    name = config[\"workspace_name\"],\n",
    "    location= config[\"location\"],\n",
    "    display_name= \"Azure ML Projects :P\",\n",
    "    description= \"This project will have multiple ML exercises in Azure ML Studio and som GenAI\",\n",
    "    tags = {# This workspace will be the dev enviroment and will be part of the churn analysis projects\n",
    "            \"env\": \"dev\",\n",
    "            \"project\": \"churn-genai\"}    \n",
    ")\n",
    "\n",
    "# Create the workspace creation job\n",
    "\n",
    "created_ws = ml_client.workspaces.begin_create(ws).result()\n",
    "print(f\"✅ Workspace '{created_ws.name}' creado correctamente.\")"
   ]
  },
  {
   "cell_type": "markdown",
   "id": "70c17a7e",
   "metadata": {},
   "source": [
    "# Getting the data\n",
    "\n",
    "Let's not complicate our life. Data is gather from Kaggle website. Just like this:"
   ]
  },
  {
   "cell_type": "code",
   "execution_count": null,
   "id": "8bd16391",
   "metadata": {},
   "outputs": [
    {
     "name": "stdout",
     "output_type": "stream",
     "text": [
      "Collecting kagglehub\n",
      "  Downloading kagglehub-0.3.11-py3-none-any.whl.metadata (32 kB)\n",
      "Requirement already satisfied: packaging in c:\\users\\jhonatansmithgarcía\\onedrive - celerik\\desktop\\repositorios\\celerik\\2025\\work\\abril\\proyectos azure\\.venv\\lib\\site-packages (from kagglehub) (24.2)\n",
      "Requirement already satisfied: pyyaml in c:\\users\\jhonatansmithgarcía\\onedrive - celerik\\desktop\\repositorios\\celerik\\2025\\work\\abril\\proyectos azure\\.venv\\lib\\site-packages (from kagglehub) (6.0.2)\n",
      "Requirement already satisfied: requests in c:\\users\\jhonatansmithgarcía\\onedrive - celerik\\desktop\\repositorios\\celerik\\2025\\work\\abril\\proyectos azure\\.venv\\lib\\site-packages (from kagglehub) (2.32.3)\n",
      "Requirement already satisfied: tqdm in c:\\users\\jhonatansmithgarcía\\onedrive - celerik\\desktop\\repositorios\\celerik\\2025\\work\\abril\\proyectos azure\\.venv\\lib\\site-packages (from kagglehub) (4.67.1)\n",
      "Requirement already satisfied: charset-normalizer<4,>=2 in c:\\users\\jhonatansmithgarcía\\onedrive - celerik\\desktop\\repositorios\\celerik\\2025\\work\\abril\\proyectos azure\\.venv\\lib\\site-packages (from requests->kagglehub) (3.4.1)\n",
      "Requirement already satisfied: idna<4,>=2.5 in c:\\users\\jhonatansmithgarcía\\onedrive - celerik\\desktop\\repositorios\\celerik\\2025\\work\\abril\\proyectos azure\\.venv\\lib\\site-packages (from requests->kagglehub) (3.10)\n",
      "Requirement already satisfied: urllib3<3,>=1.21.1 in c:\\users\\jhonatansmithgarcía\\onedrive - celerik\\desktop\\repositorios\\celerik\\2025\\work\\abril\\proyectos azure\\.venv\\lib\\site-packages (from requests->kagglehub) (2.3.0)\n",
      "Requirement already satisfied: certifi>=2017.4.17 in c:\\users\\jhonatansmithgarcía\\onedrive - celerik\\desktop\\repositorios\\celerik\\2025\\work\\abril\\proyectos azure\\.venv\\lib\\site-packages (from requests->kagglehub) (2025.1.31)\n",
      "Requirement already satisfied: colorama in c:\\users\\jhonatansmithgarcía\\onedrive - celerik\\desktop\\repositorios\\celerik\\2025\\work\\abril\\proyectos azure\\.venv\\lib\\site-packages (from tqdm->kagglehub) (0.4.6)\n",
      "Downloading kagglehub-0.3.11-py3-none-any.whl (63 kB)\n",
      "Installing collected packages: kagglehub\n",
      "Successfully installed kagglehub-0.3.11\n"
     ]
    },
    {
     "name": "stderr",
     "output_type": "stream",
     "text": [
      "\n",
      "[notice] A new release of pip is available: 24.3.1 -> 25.0.1\n",
      "[notice] To update, run: python.exe -m pip install --upgrade pip\n",
      "c:\\Users\\JhonatanSmithGarcía\\OneDrive - Celerik\\Desktop\\Repositorios\\Celerik\\2025\\Work\\Abril\\Proyectos Azure\\.venv\\Lib\\site-packages\\tqdm\\auto.py:21: TqdmWarning: IProgress not found. Please update jupyter and ipywidgets. See https://ipywidgets.readthedocs.io/en/stable/user_install.html\n",
      "  from .autonotebook import tqdm as notebook_tqdm\n"
     ]
    },
    {
     "name": "stdout",
     "output_type": "stream",
     "text": [
      "Downloading from https://www.kaggle.com/api/v1/datasets/download/blastchar/telco-customer-churn?dataset_version_number=1...\n"
     ]
    },
    {
     "name": "stderr",
     "output_type": "stream",
     "text": [
      "100%|██████████| 172k/172k [00:00<00:00, 1.80MB/s]"
     ]
    },
    {
     "name": "stdout",
     "output_type": "stream",
     "text": [
      "Extracting files...\n",
      "Path to dataset files: C:\\Users\\JhonatanSmithGarcía\\.cache\\kagglehub\\datasets\\blastchar\\telco-customer-churn\\versions\\1\n"
     ]
    },
    {
     "name": "stderr",
     "output_type": "stream",
     "text": [
      "\n"
     ]
    },
    {
     "ename": "",
     "evalue": "",
     "output_type": "error",
     "traceback": [
      "\u001b[1;31mThe Kernel crashed while executing code in the current cell or a previous cell. \n",
      "\u001b[1;31mPlease review the code in the cell(s) to identify a possible cause of the failure. \n",
      "\u001b[1;31mClick <a href='https://aka.ms/vscodeJupyterKernelCrash'>here</a> for more info. \n",
      "\u001b[1;31mView Jupyter <a href='command:jupyter.viewOutput'>log</a> for further details."
     ]
    }
   ],
   "source": [
    "!pip install kagglehub\n",
    "import kagglehub\n",
    "\n",
    "# Download latest version\n",
    "path = kagglehub.dataset_download(\"blastchar/telco-customer-churn\")\n",
    "\n",
    "print(\"Path to dataset files:\", path)"
   ]
  }
 ],
 "metadata": {
  "kernelspec": {
   "display_name": ".venv",
   "language": "python",
   "name": "python3"
  },
  "language_info": {
   "codemirror_mode": {
    "name": "ipython",
    "version": 3
   },
   "file_extension": ".py",
   "mimetype": "text/x-python",
   "name": "python",
   "nbconvert_exporter": "python",
   "pygments_lexer": "ipython3",
   "version": "3.13.2"
  }
 },
 "nbformat": 4,
 "nbformat_minor": 5
}
